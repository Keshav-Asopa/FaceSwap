{
 "cells": [
  {
   "cell_type": "code",
   "execution_count": 26,
   "metadata": {},
   "outputs": [],
   "source": [
    "import numpy as np\n",
    "import cv2\n",
    "\n",
    "#tutaj src to obraz, z ktorego piksele beda wklejane do obrazu dst\n",
    "#feather amount to procent, sluzacy do sterowania wielkoscia obszaru, ktory bedzie poddany wagowaniu\n",
    "def blendImages(src, dst, mask, featherAmount=0.2):\n",
    "    #indeksy nie czarnych pikseli maski\n",
    "    maskIndices = np.where(mask != 0)\n",
    "    #te same indeksy tylko, ze teraz w jednej macierzy, gdzie kazdy wiersz to jeden piksel (x, y)\n",
    "    maskPts = np.hstack((maskIndices[1][:, np.newaxis], maskIndices[0][:, np.newaxis]))\n",
    "    faceSize = np.max(maskPts, axis=0) - np.min(maskPts, axis=0)\n",
    "    featherAmount = featherAmount * np.max(faceSize)\n",
    "\n",
    "    hull = cv2.convexHull(maskPts)\n",
    "    dists = np.zeros(maskPts.shape[0])\n",
    "    for i in range(maskPts.shape[0]):\n",
    "        dists[i] = cv2.pointPolygonTest(hull, (maskPts[i, 0], maskPts[i, 1]), True)\n",
    "\n",
    "    weights = np.clip(dists / featherAmount, 0, 1)\n",
    "\n",
    "    composedImg = np.copy(dst)\n",
    "    composedImg[maskIndices[0], maskIndices[1]] = weights[:, np.newaxis] * src[maskIndices[0], maskIndices[1]] + (1 - weights[:, np.newaxis]) * dst[maskIndices[0], maskIndices[1]]\n",
    "\n",
    "    return composedImg\n",
    "\n",
    "#uwaga, tutaj src to obraz, z ktorego brany bedzie kolor\n",
    "def colorTransfer(src, dst, mask):\n",
    "    transferredDst = np.copy(dst)\n",
    "    #indeksy nie czarnych pikseli maski\n",
    "    maskIndices = np.where(mask != 0)\n",
    "    #src[maskIndices[0], maskIndices[1]] zwraca piksele w nie czarnym obszarze maski\n",
    "\n",
    "    maskedSrc = src[maskIndices[0], maskIndices[1]].astype(np.int32)\n",
    "    maskedDst = dst[maskIndices[0], maskIndices[1]].astype(np.int32)\n",
    "    print(maskedDst.shape)\n",
    "    meanSrc = np.mean(maskedSrc, axis=0)\n",
    "    meanDst = np.mean(maskedDst, axis=0)\n",
    "    print(maskedDst)\n",
    "    print(meanDst)\n",
    "    print(meanSrc)\n",
    "    print(\"hi\")\n",
    "    maskedDst = maskedDst - meanDst\n",
    "    maskedDst = maskedDst + meanSrc\n",
    "    print(maskedDst.shape)\n",
    "    maskedDst = np.clip(maskedDst, 0, 255)\n",
    "    print(maskedDst.shape)\n",
    "    print(\"1\")\n",
    "    transferredDst[maskIndices[0], maskIndices[1]] = maskedDst\n",
    "    print(transferredDst.shape)\n",
    "    return transferredDst\n",
    "\n"
   ]
  },
  {
   "cell_type": "code",
   "execution_count": 27,
   "metadata": {},
   "outputs": [
    {
     "name": "stdout",
     "output_type": "stream",
     "text": [
      "(18857, 3)\n",
      "[[151 172 217]\n",
      " [148 169 214]\n",
      " [152 175 220]\n",
      " ...\n",
      " [148 174 211]\n",
      " [150 176 212]\n",
      " [146 172 208]]\n",
      "[132.15951636 149.8547489  191.09200827]\n",
      "[143.86190804 165.88285517 223.60831521]\n",
      "hi\n",
      "(18857, 3)\n",
      "(18857, 3)\n",
      "1\n",
      "(744, 558, 3)\n"
     ]
    },
    {
     "data": {
      "text/plain": [
       "True"
      ]
     },
     "execution_count": 27,
     "metadata": {},
     "output_type": "execute_result"
    }
   ],
   "source": [
    "import numpy as np\n",
    "import cv2\n",
    "\n",
    "import ImageProcessing\n",
    "\n",
    "handImg = cv2.imread(\"../data/hand.png\")\n",
    "eyeImg = cv2.imread(\"../data/eye.png\")\n",
    "maskImg = cv2.imread(\"../data/mask.png\")\n",
    "\n",
    "#zmiana obrazka kolorowego na obrazek w skali szarosci\n",
    "mask = np.mean(maskImg, axis=2)\n",
    "\n",
    "eyeImg = colorTransfer(handImg, eyeImg, mask)\n",
    "blendedImg = blendImages(eyeImg, handImg, mask)\n",
    "\n",
    "cv2.imwrite(\"../eyeHandBlend.jpg\", blendedImg)"
   ]
  },
  {
   "cell_type": "code",
   "execution_count": null,
   "metadata": {},
   "outputs": [],
   "source": []
  }
 ],
 "metadata": {
  "kernelspec": {
   "display_name": "Python 3",
   "language": "python",
   "name": "python3"
  },
  "language_info": {
   "codemirror_mode": {
    "name": "ipython",
    "version": 3
   },
   "file_extension": ".py",
   "mimetype": "text/x-python",
   "name": "python",
   "nbconvert_exporter": "python",
   "pygments_lexer": "ipython3",
   "version": "3.5.2"
  }
 },
 "nbformat": 4,
 "nbformat_minor": 2
}
